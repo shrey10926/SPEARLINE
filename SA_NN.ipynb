{
  "cells": [
    {
      "cell_type": "markdown",
      "metadata": {
        "id": "view-in-github",
        "colab_type": "text"
      },
      "source": [
        "<a href=\"https://colab.research.google.com/github/shrey10926/SPEARLINE/blob/main/SA_NN.ipynb\" target=\"_parent\"><img src=\"https://colab.research.google.com/assets/colab-badge.svg\" alt=\"Open In Colab\"/></a>"
      ]
    },
    {
      "cell_type": "code",
      "execution_count": 1,
      "metadata": {
        "id": "e-ocDM-ip3fR"
      },
      "outputs": [],
      "source": [
        "# IMPORT THE FILE\n",
        "import pandas as pd\n",
        "import numpy as np\n",
        "import seaborn as sns\n",
        "import matplotlib.pyplot as plt\n",
        "\n",
        "df = pd.read_csv('train.csv')\n",
        "test_df = pd.read_csv('test.csv')\n",
        "\n",
        "df1 = df.copy(deep = True)\n",
        "test_df1 = test_df.copy(deep = True)\n",
        "\n",
        "# DROPPING THESE 2 COLUMN AS THEY DONT PLAY A ROLE IN PREDICTION\n",
        "df1.drop(['company_id', 'date'], axis = 1, inplace = True)\n",
        "test_df1.drop(['company_id', 'date'], axis = 1, inplace = True)"
      ]
    },
    {
      "cell_type": "code",
      "source": [
        ""
      ],
      "metadata": {
        "id": "jDmqbpdrepmt"
      },
      "execution_count": 1,
      "outputs": []
    },
    {
      "cell_type": "markdown",
      "source": [
        "EDA"
      ],
      "metadata": {
        "id": "jXDyY0ObenmW"
      }
    },
    {
      "cell_type": "code",
      "source": [
        "pd.set_option('display.float_format', lambda x: '%3f' %x)\n",
        "pd.set_option('display.max_columns', 30)\n",
        "\n",
        "\n",
        "# GET BASIC INFO ABOUT THE DATA\n",
        "df1.info()\n",
        "df1.describe()"
      ],
      "metadata": {
        "colab": {
          "base_uri": "https://localhost:8080/",
          "height": 711
        },
        "id": "x_nszUgRERbO",
        "outputId": "d0203447-d34e-4b6b-f624-654660900b56"
      },
      "execution_count": 2,
      "outputs": [
        {
          "output_type": "stream",
          "name": "stdout",
          "text": [
            "<class 'pandas.core.frame.DataFrame'>\n",
            "RangeIndex: 98739 entries, 0 to 98738\n",
            "Data columns (total 13 columns):\n",
            " #   Column                   Non-Null Count  Dtype  \n",
            "---  ------                   --------------  -----  \n",
            " 0   company_type             98739 non-null  object \n",
            " 1   avg_pesq_score           98739 non-null  float64\n",
            " 2   quality_too_poor         98739 non-null  int64  \n",
            " 3   number_busy              98739 non-null  int64  \n",
            " 4   temporarily_unable_test  98739 non-null  int64  \n",
            " 5   outage_sec               98739 non-null  float64\n",
            " 6   number_test_types        98739 non-null  int64  \n",
            " 7   numbers_tested           98739 non-null  int64  \n",
            " 8   followup_tests           98739 non-null  int64  \n",
            " 9   min_commit               49897 non-null  float64\n",
            " 10  has_min_commit           98739 non-null  int64  \n",
            " 11  volume_tests             98739 non-null  int64  \n",
            " 12  is_testing               98739 non-null  int64  \n",
            "dtypes: float64(3), int64(9), object(1)\n",
            "memory usage: 9.8+ MB\n"
          ]
        },
        {
          "output_type": "execute_result",
          "data": {
            "text/html": [
              "\n",
              "  <div id=\"df-bb36be91-ee33-4652-a8f6-63715c5c1589\">\n",
              "    <div class=\"colab-df-container\">\n",
              "      <div>\n",
              "<style scoped>\n",
              "    .dataframe tbody tr th:only-of-type {\n",
              "        vertical-align: middle;\n",
              "    }\n",
              "\n",
              "    .dataframe tbody tr th {\n",
              "        vertical-align: top;\n",
              "    }\n",
              "\n",
              "    .dataframe thead th {\n",
              "        text-align: right;\n",
              "    }\n",
              "</style>\n",
              "<table border=\"1\" class=\"dataframe\">\n",
              "  <thead>\n",
              "    <tr style=\"text-align: right;\">\n",
              "      <th></th>\n",
              "      <th>avg_pesq_score</th>\n",
              "      <th>quality_too_poor</th>\n",
              "      <th>number_busy</th>\n",
              "      <th>temporarily_unable_test</th>\n",
              "      <th>outage_sec</th>\n",
              "      <th>number_test_types</th>\n",
              "      <th>numbers_tested</th>\n",
              "      <th>followup_tests</th>\n",
              "      <th>min_commit</th>\n",
              "      <th>has_min_commit</th>\n",
              "      <th>volume_tests</th>\n",
              "      <th>is_testing</th>\n",
              "    </tr>\n",
              "  </thead>\n",
              "  <tbody>\n",
              "    <tr>\n",
              "      <th>count</th>\n",
              "      <td>98739.000000</td>\n",
              "      <td>98739.000000</td>\n",
              "      <td>98739.000000</td>\n",
              "      <td>98739.000000</td>\n",
              "      <td>98739.000000</td>\n",
              "      <td>98739.000000</td>\n",
              "      <td>98739.000000</td>\n",
              "      <td>98739.000000</td>\n",
              "      <td>49897.000000</td>\n",
              "      <td>98739.000000</td>\n",
              "      <td>98739.000000</td>\n",
              "      <td>98739.000000</td>\n",
              "    </tr>\n",
              "    <tr>\n",
              "      <th>mean</th>\n",
              "      <td>1.646096</td>\n",
              "      <td>1.160777</td>\n",
              "      <td>12.449792</td>\n",
              "      <td>1.246427</td>\n",
              "      <td>579.964905</td>\n",
              "      <td>0.895755</td>\n",
              "      <td>66.316319</td>\n",
              "      <td>2.789830</td>\n",
              "      <td>16367.684370</td>\n",
              "      <td>0.504735</td>\n",
              "      <td>698.954587</td>\n",
              "      <td>0.626520</td>\n",
              "    </tr>\n",
              "    <tr>\n",
              "      <th>std</th>\n",
              "      <td>1.901872</td>\n",
              "      <td>9.725059</td>\n",
              "      <td>65.360308</td>\n",
              "      <td>16.368124</td>\n",
              "      <td>1848.339796</td>\n",
              "      <td>1.079343</td>\n",
              "      <td>323.045161</td>\n",
              "      <td>26.715373</td>\n",
              "      <td>59488.144476</td>\n",
              "      <td>0.499980</td>\n",
              "      <td>4132.414286</td>\n",
              "      <td>0.483730</td>\n",
              "    </tr>\n",
              "    <tr>\n",
              "      <th>min</th>\n",
              "      <td>0.000000</td>\n",
              "      <td>0.000000</td>\n",
              "      <td>0.000000</td>\n",
              "      <td>0.000000</td>\n",
              "      <td>0.000000</td>\n",
              "      <td>0.000000</td>\n",
              "      <td>0.000000</td>\n",
              "      <td>0.000000</td>\n",
              "      <td>0.000000</td>\n",
              "      <td>0.000000</td>\n",
              "      <td>0.000000</td>\n",
              "      <td>0.000000</td>\n",
              "    </tr>\n",
              "    <tr>\n",
              "      <th>25%</th>\n",
              "      <td>0.000000</td>\n",
              "      <td>0.000000</td>\n",
              "      <td>0.000000</td>\n",
              "      <td>0.000000</td>\n",
              "      <td>0.000000</td>\n",
              "      <td>0.000000</td>\n",
              "      <td>0.000000</td>\n",
              "      <td>0.000000</td>\n",
              "      <td>600.000000</td>\n",
              "      <td>0.000000</td>\n",
              "      <td>0.000000</td>\n",
              "      <td>0.000000</td>\n",
              "    </tr>\n",
              "    <tr>\n",
              "      <th>50%</th>\n",
              "      <td>0.000000</td>\n",
              "      <td>0.000000</td>\n",
              "      <td>0.000000</td>\n",
              "      <td>0.000000</td>\n",
              "      <td>24.000000</td>\n",
              "      <td>1.000000</td>\n",
              "      <td>1.000000</td>\n",
              "      <td>0.000000</td>\n",
              "      <td>2000.000000</td>\n",
              "      <td>1.000000</td>\n",
              "      <td>24.000000</td>\n",
              "      <td>1.000000</td>\n",
              "    </tr>\n",
              "    <tr>\n",
              "      <th>75%</th>\n",
              "      <td>3.810000</td>\n",
              "      <td>0.000000</td>\n",
              "      <td>2.000000</td>\n",
              "      <td>0.000000</td>\n",
              "      <td>192.000000</td>\n",
              "      <td>2.000000</td>\n",
              "      <td>32.000000</td>\n",
              "      <td>0.000000</td>\n",
              "      <td>7200.000000</td>\n",
              "      <td>1.000000</td>\n",
              "      <td>192.000000</td>\n",
              "      <td>1.000000</td>\n",
              "    </tr>\n",
              "    <tr>\n",
              "      <th>max</th>\n",
              "      <td>4.500000</td>\n",
              "      <td>627.000000</td>\n",
              "      <td>4492.000000</td>\n",
              "      <td>1258.000000</td>\n",
              "      <td>23831.720000</td>\n",
              "      <td>6.000000</td>\n",
              "      <td>4868.000000</td>\n",
              "      <td>2337.000000</td>\n",
              "      <td>400000.000000</td>\n",
              "      <td>1.000000</td>\n",
              "      <td>57105.000000</td>\n",
              "      <td>1.000000</td>\n",
              "    </tr>\n",
              "  </tbody>\n",
              "</table>\n",
              "</div>\n",
              "      <button class=\"colab-df-convert\" onclick=\"convertToInteractive('df-bb36be91-ee33-4652-a8f6-63715c5c1589')\"\n",
              "              title=\"Convert this dataframe to an interactive table.\"\n",
              "              style=\"display:none;\">\n",
              "        \n",
              "  <svg xmlns=\"http://www.w3.org/2000/svg\" height=\"24px\"viewBox=\"0 0 24 24\"\n",
              "       width=\"24px\">\n",
              "    <path d=\"M0 0h24v24H0V0z\" fill=\"none\"/>\n",
              "    <path d=\"M18.56 5.44l.94 2.06.94-2.06 2.06-.94-2.06-.94-.94-2.06-.94 2.06-2.06.94zm-11 1L8.5 8.5l.94-2.06 2.06-.94-2.06-.94L8.5 2.5l-.94 2.06-2.06.94zm10 10l.94 2.06.94-2.06 2.06-.94-2.06-.94-.94-2.06-.94 2.06-2.06.94z\"/><path d=\"M17.41 7.96l-1.37-1.37c-.4-.4-.92-.59-1.43-.59-.52 0-1.04.2-1.43.59L10.3 9.45l-7.72 7.72c-.78.78-.78 2.05 0 2.83L4 21.41c.39.39.9.59 1.41.59.51 0 1.02-.2 1.41-.59l7.78-7.78 2.81-2.81c.8-.78.8-2.07 0-2.86zM5.41 20L4 18.59l7.72-7.72 1.47 1.35L5.41 20z\"/>\n",
              "  </svg>\n",
              "      </button>\n",
              "      \n",
              "  <style>\n",
              "    .colab-df-container {\n",
              "      display:flex;\n",
              "      flex-wrap:wrap;\n",
              "      gap: 12px;\n",
              "    }\n",
              "\n",
              "    .colab-df-convert {\n",
              "      background-color: #E8F0FE;\n",
              "      border: none;\n",
              "      border-radius: 50%;\n",
              "      cursor: pointer;\n",
              "      display: none;\n",
              "      fill: #1967D2;\n",
              "      height: 32px;\n",
              "      padding: 0 0 0 0;\n",
              "      width: 32px;\n",
              "    }\n",
              "\n",
              "    .colab-df-convert:hover {\n",
              "      background-color: #E2EBFA;\n",
              "      box-shadow: 0px 1px 2px rgba(60, 64, 67, 0.3), 0px 1px 3px 1px rgba(60, 64, 67, 0.15);\n",
              "      fill: #174EA6;\n",
              "    }\n",
              "\n",
              "    [theme=dark] .colab-df-convert {\n",
              "      background-color: #3B4455;\n",
              "      fill: #D2E3FC;\n",
              "    }\n",
              "\n",
              "    [theme=dark] .colab-df-convert:hover {\n",
              "      background-color: #434B5C;\n",
              "      box-shadow: 0px 1px 3px 1px rgba(0, 0, 0, 0.15);\n",
              "      filter: drop-shadow(0px 1px 2px rgba(0, 0, 0, 0.3));\n",
              "      fill: #FFFFFF;\n",
              "    }\n",
              "  </style>\n",
              "\n",
              "      <script>\n",
              "        const buttonEl =\n",
              "          document.querySelector('#df-bb36be91-ee33-4652-a8f6-63715c5c1589 button.colab-df-convert');\n",
              "        buttonEl.style.display =\n",
              "          google.colab.kernel.accessAllowed ? 'block' : 'none';\n",
              "\n",
              "        async function convertToInteractive(key) {\n",
              "          const element = document.querySelector('#df-bb36be91-ee33-4652-a8f6-63715c5c1589');\n",
              "          const dataTable =\n",
              "            await google.colab.kernel.invokeFunction('convertToInteractive',\n",
              "                                                     [key], {});\n",
              "          if (!dataTable) return;\n",
              "\n",
              "          const docLinkHtml = 'Like what you see? Visit the ' +\n",
              "            '<a target=\"_blank\" href=https://colab.research.google.com/notebooks/data_table.ipynb>data table notebook</a>'\n",
              "            + ' to learn more about interactive tables.';\n",
              "          element.innerHTML = '';\n",
              "          dataTable['output_type'] = 'display_data';\n",
              "          await google.colab.output.renderOutput(dataTable, element);\n",
              "          const docLink = document.createElement('div');\n",
              "          docLink.innerHTML = docLinkHtml;\n",
              "          element.appendChild(docLink);\n",
              "        }\n",
              "      </script>\n",
              "    </div>\n",
              "  </div>\n",
              "  "
            ],
            "text/plain": [
              "       avg_pesq_score  quality_too_poor  number_busy  temporarily_unable_test  \\\n",
              "count    98739.000000      98739.000000 98739.000000             98739.000000   \n",
              "mean         1.646096          1.160777    12.449792                 1.246427   \n",
              "std          1.901872          9.725059    65.360308                16.368124   \n",
              "min          0.000000          0.000000     0.000000                 0.000000   \n",
              "25%          0.000000          0.000000     0.000000                 0.000000   \n",
              "50%          0.000000          0.000000     0.000000                 0.000000   \n",
              "75%          3.810000          0.000000     2.000000                 0.000000   \n",
              "max          4.500000        627.000000  4492.000000              1258.000000   \n",
              "\n",
              "        outage_sec  number_test_types  numbers_tested  followup_tests  \\\n",
              "count 98739.000000       98739.000000    98739.000000    98739.000000   \n",
              "mean    579.964905           0.895755       66.316319        2.789830   \n",
              "std    1848.339796           1.079343      323.045161       26.715373   \n",
              "min       0.000000           0.000000        0.000000        0.000000   \n",
              "25%       0.000000           0.000000        0.000000        0.000000   \n",
              "50%      24.000000           1.000000        1.000000        0.000000   \n",
              "75%     192.000000           2.000000       32.000000        0.000000   \n",
              "max   23831.720000           6.000000     4868.000000     2337.000000   \n",
              "\n",
              "         min_commit  has_min_commit  volume_tests   is_testing  \n",
              "count  49897.000000    98739.000000  98739.000000 98739.000000  \n",
              "mean   16367.684370        0.504735    698.954587     0.626520  \n",
              "std    59488.144476        0.499980   4132.414286     0.483730  \n",
              "min        0.000000        0.000000      0.000000     0.000000  \n",
              "25%      600.000000        0.000000      0.000000     0.000000  \n",
              "50%     2000.000000        1.000000     24.000000     1.000000  \n",
              "75%     7200.000000        1.000000    192.000000     1.000000  \n",
              "max   400000.000000        1.000000  57105.000000     1.000000  "
            ]
          },
          "metadata": {},
          "execution_count": 2
        }
      ]
    },
    {
      "cell_type": "code",
      "source": [
        "# THERE ARE A LARGE NUMBER OF DUPLICATES PRESENT IN THE DATA \n",
        "\n",
        "duplicate = df1[df1.duplicated()]\n",
        "df1.drop_duplicates(keep = 'first', inplace = True)"
      ],
      "metadata": {
        "id": "-_JQnxI5d6Tg"
      },
      "execution_count": 3,
      "outputs": []
    },
    {
      "cell_type": "code",
      "source": [
        "# EDA \n",
        "\n",
        "# FROM THE BELOW ANALYSIS WE CAN SEE THAT MIN_COMMIT HAS 33% NAN VALS.\n",
        "def missing_vals(data3):     \n",
        "    nan_feat = [cname for cname in data3.columns if data3[cname].isnull().sum() >= 1]\n",
        "            \n",
        "    # TO FIND OUT THE % OF NAN \n",
        "    for i in nan_feat:\n",
        "        print(i, np.round(data3[i].isnull().mean(), 2))          \n",
        "\n",
        "missing_vals(df1)"
      ],
      "metadata": {
        "colab": {
          "base_uri": "https://localhost:8080/"
        },
        "id": "EkzTHIKfERYu",
        "outputId": "c46c1098-6673-48c8-9591-7e9af60aa609"
      },
      "execution_count": 4,
      "outputs": [
        {
          "output_type": "stream",
          "name": "stdout",
          "text": [
            "min_commit 0.33\n"
          ]
        }
      ]
    },
    {
      "cell_type": "code",
      "source": [
        "# OUTLIERS \n",
        "# A MAJORITY OF THE FEATURES HAVE OUTLIERS\n",
        "\n",
        "num_feat = [cname for cname in df1.columns if df1[cname].dtype in ['int64', 'float64']]\n",
        "\n",
        "for i in num_feat:\n",
        "    df1.boxplot(column = i)\n",
        "    plt.ylabel(i)\n",
        "    plt.show()"
      ],
      "metadata": {
        "colab": {
          "base_uri": "https://localhost:8080/",
          "height": 1000
        },
        "id": "ridtIgJsERWP",
        "outputId": "1e957fbf-1263-4138-99f5-9f61758edc8c"
      },
      "execution_count": 5,
      "outputs": [
        {
          "output_type": "display_data",
          "data": {
            "image/png": "[encoded data removed]",
            "text/plain": [
              "<Figure size 432x288 with 1 Axes>"
            ]
          },
          "metadata": {
            "needs_background": "light"
          }
        },
        {
          "output_type": "display_data",
          "data": {
            "image/png": "[encoded data removed]",
            "text/plain": [
              "<Figure size 432x288 with 1 Axes>"
            ]
          },
          "metadata": {
            "needs_background": "light"
          }
        },
        {
          "output_type": "display_data",
          "data": {
            "image/png": "[encoded data removed]",
            "text/plain": [
              "<Figure size 432x288 with 1 Axes>"
            ]
          },
          "metadata": {
            "needs_background": "light"
          }
        },
        {
          "output_type": "display_data",
          "data": {
            "image/png": "[encoded data removed]",
            "text/plain": [
              "<Figure size 432x288 with 1 Axes>"
            ]
          },
          "metadata": {
            "needs_background": "light"
          }
        },
        {
          "output_type": "display_data",
          "data": {
            "image/png": "[encoded data removed]",
            "text/plain": [
              "<Figure size 432x288 with 1 Axes>"
            ]
          },
          "metadata": {
            "needs_background": "light"
          }
        },
        {
          "output_type": "display_data",
          "data": {
            "image/png": "[encoded data removed]",
            "text/plain": [
              "<Figure size 432x288 with 1 Axes>"
            ]
          },
          "metadata": {
            "needs_background": "light"
          }
        },
        {
          "output_type": "display_data",
          "data": {
            "image/png": "[encoded data removed]",
            "text/plain": [
              "<Figure size 432x288 with 1 Axes>"
            ]
          },
          "metadata": {
            "needs_background": "light"
          }
        },
        {
          "output_type": "display_data",
          "data": {
            "image/png": "[encoded data removed]",
            "text/plain": [
              "<Figure size 432x288 with 1 Axes>"
            ]
          },
          "metadata": {
            "needs_background": "light"
          }
        },
        {
          "output_type": "display_data",
          "data": {
            "image/png": "[encoded data removed]",
            "text/plain": [
              "<Figure size 432x288 with 1 Axes>"
            ]
          },
          "metadata": {
            "needs_background": "light"
          }
        },
        {
          "output_type": "display_data",
          "data": {
            "image/png": "[encoded data removed]",
            "text/plain": [
              "<Figure size 432x288 with 1 Axes>"
            ]
          },
          "metadata": {
            "needs_background": "light"
          }
        },
        {
          "output_type": "display_data",
          "data": {
            "image/png": "[encoded data removed]",
            "text/plain": [
              "<Figure size 432x288 with 1 Axes>"
            ]
          },
          "metadata": {
            "needs_background": "light"
          }
        },
        {
          "output_type": "display_data",
          "data": {
            "image/png": "[encoded data removed]",
            "text/plain": [
              "<Figure size 432x288 with 1 Axes>"
            ]
          },
          "metadata": {
            "needs_background": "light"
          }
        }
      ]
    },
    {
      "cell_type": "code",
      "source": [
        "# DISTRIBUTION OF FEATURES\n",
        "# A MAJORITY OF THE FEATURES INCLUDING THE TARGET ARE RIGHT SKEWED\n",
        "\n",
        "for j in num_feat:\n",
        "    sns.distplot(df1[j])\n",
        "    #plt.ylabel(j)\n",
        "    plt.show()\n"
      ],
      "metadata": {
        "colab": {
          "base_uri": "https://localhost:8080/",
          "height": 1000
        },
        "id": "gmzaEDHFEew2",
        "outputId": "e11d335d-8f42-48ba-e1c0-399046fb86c8"
      },
      "execution_count": 6,
      "outputs": [
        {
          "output_type": "stream",
          "name": "stderr",
          "text": [
            "/usr/local/lib/python3.7/dist-packages/seaborn/distributions.py:2619: FutureWarning: `distplot` is a deprecated function and will be removed in a future version. Please adapt your code to use either `displot` (a figure-level function with similar flexibility) or `histplot` (an axes-level function for histograms).\n",
            "  warnings.warn(msg, FutureWarning)\n"
          ]
        },
        {
          "output_type": "display_data",
          "data": {
            "image/png": "[encoded data removed]",
            "text/plain": [
              "<Figure size 432x288 with 1 Axes>"
            ]
          },
          "metadata": {
            "needs_background": "light"
          }
        },
        {
          "output_type": "stream",
          "name": "stderr",
          "text": [
            "/usr/local/lib/python3.7/dist-packages/seaborn/distributions.py:2619: FutureWarning: `distplot` is a deprecated function and will be removed in a future version. Please adapt your code to use either `displot` (a figure-level function with similar flexibility) or `histplot` (an axes-level function for histograms).\n",
            "  warnings.warn(msg, FutureWarning)\n"
          ]
        },
        {
          "output_type": "display_data",
          "data": {
            "image/png": "[encoded data removed]",
            "text/plain": [
              "<Figure size 432x288 with 1 Axes>"
            ]
          },
          "metadata": {
            "needs_background": "light"
          }
        },
        {
          "output_type": "stream",
          "name": "stderr",
          "text": [
            "/usr/local/lib/python3.7/dist-packages/seaborn/distributions.py:2619: FutureWarning: `distplot` is a deprecated function and will be removed in a future version. Please adapt your code to use either `displot` (a figure-level function with similar flexibility) or `histplot` (an axes-level function for histograms).\n",
            "  warnings.warn(msg, FutureWarning)\n"
          ]
        },
        {
          "output_type": "display_data",
          "data": {
            "image/png": "[encoded data removed]",
            "text/plain": [
              "<Figure size 432x288 with 1 Axes>"
            ]
          },
          "metadata": {
            "needs_background": "light"
          }
        },
        {
          "output_type": "stream",
          "name": "stderr",
          "text": [
            "/usr/local/lib/python3.7/dist-packages/seaborn/distributions.py:2619: FutureWarning: `distplot` is a deprecated function and will be removed in a future version. Please adapt your code to use either `displot` (a figure-level function with similar flexibility) or `histplot` (an axes-level function for histograms).\n",
            "  warnings.warn(msg, FutureWarning)\n"
          ]
        },
        {
          "output_type": "display_data",
          "data": {
            "image/png": "[encoded data removed]",
            "text/plain": [
              "<Figure size 432x288 with 1 Axes>"
            ]
          },
          "metadata": {
            "needs_background": "light"
          }
        },
        {
          "output_type": "stream",
          "name": "stderr",
          "text": [
            "/usr/local/lib/python3.7/dist-packages/seaborn/distributions.py:2619: FutureWarning: `distplot` is a deprecated function and will be removed in a future version. Please adapt your code to use either `displot` (a figure-level function with similar flexibility) or `histplot` (an axes-level function for histograms).\n",
            "  warnings.warn(msg, FutureWarning)\n"
          ]
        },
        {
          "output_type": "display_data",
          "data": {
            "image/png": "[encoded data removed]",
            "text/plain": [
              "<Figure size 432x288 with 1 Axes>"
            ]
          },
          "metadata": {
            "needs_background": "light"
          }
        },
        {
          "output_type": "stream",
          "name": "stderr",
          "text": [
            "/usr/local/lib/python3.7/dist-packages/seaborn/distributions.py:2619: FutureWarning: `distplot` is a deprecated function and will be removed in a future version. Please adapt your code to use either `displot` (a figure-level function with similar flexibility) or `histplot` (an axes-level function for histograms).\n",
            "  warnings.warn(msg, FutureWarning)\n"
          ]
        },
        {
          "output_type": "display_data",
          "data": {
            "image/png": "[encoded data removed]",
            "text/plain": [
              "<Figure size 432x288 with 1 Axes>"
            ]
          },
          "metadata": {
            "needs_background": "light"
          }
        },
        {
          "output_type": "stream",
          "name": "stderr",
          "text": [
            "/usr/local/lib/python3.7/dist-packages/seaborn/distributions.py:2619: FutureWarning: `distplot` is a deprecated function and will be removed in a future version. Please adapt your code to use either `displot` (a figure-level function with similar flexibility) or `histplot` (an axes-level function for histograms).\n",
            "  warnings.warn(msg, FutureWarning)\n"
          ]
        },
        {
          "output_type": "display_data",
          "data": {
            "image/png": "[encoded data removed]",
            "text/plain": [
              "<Figure size 432x288 with 1 Axes>"
            ]
          },
          "metadata": {
            "needs_background": "light"
          }
        },
        {
          "output_type": "stream",
          "name": "stderr",
          "text": [
            "/usr/local/lib/python3.7/dist-packages/seaborn/distributions.py:2619: FutureWarning: `distplot` is a deprecated function and will be removed in a future version. Please adapt your code to use either `displot` (a figure-level function with similar flexibility) or `histplot` (an axes-level function for histograms).\n",
            "  warnings.warn(msg, FutureWarning)\n"
          ]
        },
        {
          "output_type": "display_data",
          "data": {
            "image/png": "[encoded data removed]",
            "text/plain": [
              "<Figure size 432x288 with 1 Axes>"
            ]
          },
          "metadata": {
            "needs_background": "light"
          }
        },
        {
          "output_type": "stream",
          "name": "stderr",
          "text": [
            "/usr/local/lib/python3.7/dist-packages/seaborn/distributions.py:2619: FutureWarning: `distplot` is a deprecated function and will be removed in a future version. Please adapt your code to use either `displot` (a figure-level function with similar flexibility) or `histplot` (an axes-level function for histograms).\n",
            "  warnings.warn(msg, FutureWarning)\n"
          ]
        },
        {
          "output_type": "display_data",
          "data": {
            "image/png": "[encoded data removed]",
            "text/plain": [
              "<Figure size 432x288 with 1 Axes>"
            ]
          },
          "metadata": {
            "needs_background": "light"
          }
        },
        {
          "output_type": "stream",
          "name": "stderr",
          "text": [
            "/usr/local/lib/python3.7/dist-packages/seaborn/distributions.py:2619: FutureWarning: `distplot` is a deprecated function and will be removed in a future version. Please adapt your code to use either `displot` (a figure-level function with similar flexibility) or `histplot` (an axes-level function for histograms).\n",
            "  warnings.warn(msg, FutureWarning)\n"
          ]
        },
        {
          "output_type": "display_data",
          "data": {
            "image/png": "[encoded data removed]",
            "text/plain": [
              "<Figure size 432x288 with 1 Axes>"
            ]
          },
          "metadata": {
            "needs_background": "light"
          }
        },
        {
          "output_type": "stream",
          "name": "stderr",
          "text": [
            "/usr/local/lib/python3.7/dist-packages/seaborn/distributions.py:2619: FutureWarning: `distplot` is a deprecated function and will be removed in a future version. Please adapt your code to use either `displot` (a figure-level function with similar flexibility) or `histplot` (an axes-level function for histograms).\n",
            "  warnings.warn(msg, FutureWarning)\n"
          ]
        },
        {
          "output_type": "display_data",
          "data": {
            "image/png": "[encoded data removed]",
            "text/plain": [
              "<Figure size 432x288 with 1 Axes>"
            ]
          },
          "metadata": {
            "needs_background": "light"
          }
        },
        {
          "output_type": "stream",
          "name": "stderr",
          "text": [
            "/usr/local/lib/python3.7/dist-packages/seaborn/distributions.py:2619: FutureWarning: `distplot` is a deprecated function and will be removed in a future version. Please adapt your code to use either `displot` (a figure-level function with similar flexibility) or `histplot` (an axes-level function for histograms).\n",
            "  warnings.warn(msg, FutureWarning)\n"
          ]
        },
        {
          "output_type": "display_data",
          "data": {
            "image/png": "[encoded data removed]",
            "text/plain": [
              "<Figure size 432x288 with 1 Axes>"
            ]
          },
          "metadata": {
            "needs_background": "light"
          }
        }
      ]
    },
    {
      "cell_type": "code",
      "source": [
        "sns.countplot(df1['company_type'])"
      ],
      "metadata": {
        "colab": {
          "base_uri": "https://localhost:8080/",
          "height": 352
        },
        "id": "o1Az8oCJE_WR",
        "outputId": "d1fe1f13-9656-42ab-a03f-e293a11688a7"
      },
      "execution_count": 7,
      "outputs": [
        {
          "output_type": "stream",
          "name": "stderr",
          "text": [
            "/usr/local/lib/python3.7/dist-packages/seaborn/_decorators.py:43: FutureWarning: Pass the following variable as a keyword arg: x. From version 0.12, the only valid positional argument will be `data`, and passing other arguments without an explicit keyword will result in an error or misinterpretation.\n",
            "  FutureWarning\n"
          ]
        },
        {
          "output_type": "execute_result",
          "data": {
            "text/plain": [
              "<matplotlib.axes._subplots.AxesSubplot at 0x7fcef9f9d490>"
            ]
          },
          "metadata": {},
          "execution_count": 7
        },
        {
          "output_type": "display_data",
          "data": {
            "image/png": "[encoded data removed]",
            "text/plain": [
              "<Figure size 432x288 with 1 Axes>"
            ]
          },
          "metadata": {
            "needs_background": "light"
          }
        }
      ]
    },
    {
      "cell_type": "code",
      "source": [
        ""
      ],
      "metadata": {
        "id": "qhapc52aeXyE"
      },
      "execution_count": 7,
      "outputs": []
    },
    {
      "cell_type": "markdown",
      "source": [
        "PREPROCESSING"
      ],
      "metadata": {
        "id": "zylCfjyIeUnw"
      }
    },
    {
      "cell_type": "code",
      "execution_count": 8,
      "metadata": {
        "colab": {
          "base_uri": "https://localhost:8080/"
        },
        "id": "KjyXosonrTpe",
        "outputId": "4eade610-9018-4ae6-f81a-04151eb05dd3"
      },
      "outputs": [
        {
          "output_type": "stream",
          "name": "stdout",
          "text": [
            "Collecting category-encoders\n",
            "  Downloading category_encoders-2.3.0-py2.py3-none-any.whl (82 kB)\n",
            "\u001b[?25l\r\u001b[K     |████                            | 10 kB 24.0 MB/s eta 0:00:01\r\u001b[K     |████████                        | 20 kB 18.8 MB/s eta 0:00:01\r\u001b[K     |████████████                    | 30 kB 11.4 MB/s eta 0:00:01\r\u001b[K     |████████████████                | 40 kB 6.6 MB/s eta 0:00:01\r\u001b[K     |████████████████████            | 51 kB 7.4 MB/s eta 0:00:01\r\u001b[K     |████████████████████████        | 61 kB 8.2 MB/s eta 0:00:01\r\u001b[K     |████████████████████████████    | 71 kB 7.1 MB/s eta 0:00:01\r\u001b[K     |███████████████████████████████▉| 81 kB 7.9 MB/s eta 0:00:01\r\u001b[K     |████████████████████████████████| 82 kB 363 kB/s \n",
            "\u001b[?25hRequirement already satisfied: scikit-learn>=0.20.0 in /usr/local/lib/python3.7/dist-packages (from category-encoders) (1.0.1)\n",
            "Requirement already satisfied: numpy>=1.14.0 in /usr/local/lib/python3.7/dist-packages (from category-encoders) (1.19.5)\n",
            "Requirement already satisfied: scipy>=1.0.0 in /usr/local/lib/python3.7/dist-packages (from category-encoders) (1.4.1)\n",
            "Requirement already satisfied: statsmodels>=0.9.0 in /usr/local/lib/python3.7/dist-packages (from category-encoders) (0.10.2)\n",
            "Requirement already satisfied: pandas>=0.21.1 in /usr/local/lib/python3.7/dist-packages (from category-encoders) (1.1.5)\n",
            "Requirement already satisfied: patsy>=0.5.1 in /usr/local/lib/python3.7/dist-packages (from category-encoders) (0.5.2)\n",
            "Requirement already satisfied: pytz>=2017.2 in /usr/local/lib/python3.7/dist-packages (from pandas>=0.21.1->category-encoders) (2018.9)\n",
            "Requirement already satisfied: python-dateutil>=2.7.3 in /usr/local/lib/python3.7/dist-packages (from pandas>=0.21.1->category-encoders) (2.8.2)\n",
            "Requirement already satisfied: six in /usr/local/lib/python3.7/dist-packages (from patsy>=0.5.1->category-encoders) (1.15.0)\n",
            "Requirement already satisfied: threadpoolctl>=2.0.0 in /usr/local/lib/python3.7/dist-packages (from scikit-learn>=0.20.0->category-encoders) (3.0.0)\n",
            "Requirement already satisfied: joblib>=0.11 in /usr/local/lib/python3.7/dist-packages (from scikit-learn>=0.20.0->category-encoders) (1.1.0)\n",
            "Installing collected packages: category-encoders\n",
            "Successfully installed category-encoders-2.3.0\n"
          ]
        },
        {
          "output_type": "stream",
          "name": "stderr",
          "text": [
            "/usr/local/lib/python3.7/dist-packages/statsmodels/tools/_testing.py:19: FutureWarning: pandas.util.testing is deprecated. Use the functions in the public API at pandas.testing instead.\n",
            "  import pandas.util.testing as tm\n"
          ]
        }
      ],
      "source": [
        "!pip install category-encoders\n",
        "from sklearn.model_selection import train_test_split, ParameterGrid, cross_validate, KFold, RandomizedSearchCV\n",
        "from sklearn.experimental import enable_iterative_imputer\n",
        "from sklearn.impute import IterativeImputer\n",
        "from sklearn.metrics import mean_absolute_error\n",
        "import category_encoders as ce\n",
        "from sklearn.ensemble import ExtraTreesRegressor"
      ]
    },
    {
      "cell_type": "code",
      "execution_count": 9,
      "metadata": {
        "id": "eFdW7jeurTrv"
      },
      "outputs": [],
      "source": [
        "x = df1.drop(['volume_tests'], axis = 1)\n",
        "y = df1['volume_tests']\n",
        "\n"
      ]
    },
    {
      "cell_type": "code",
      "source": [
        "# HERE WE SEPARATE THE NUMERICAL AND CATEGORICAL FEATURES AS WE NEED TO FEED ONLY NUMERICAL FEATURES TO THE IMPUTER\n",
        "def split_data(ip,op):\n",
        "    \n",
        "    train_x, test_x, train_y, test_y = train_test_split(ip, op, test_size = 0.2, random_state = 69)\n",
        "\n",
        "    \n",
        "    train_cat_data = train_x.select_dtypes(include = 'object')\n",
        "    train_cat_data = train_cat_data.reset_index(drop = True)\n",
        "    train_num_data = train_x.select_dtypes(include = 'number')\n",
        "    train_num_data = train_num_data.reset_index(drop = True)\n",
        "    \n",
        "    test_cat_data = test_x.select_dtypes(include = 'object')\n",
        "    test_cat_data = test_cat_data.reset_index(drop = True)\n",
        "    test_num_data = test_x.select_dtypes(include = 'number')\n",
        "    test_num_data = test_num_data.reset_index(drop = True)\n",
        "    \n",
        "    return train_y, test_y, train_num_data, train_cat_data, test_num_data, test_cat_data\n",
        "\n",
        "train_y, test_y, train_num_data, train_cat_data, test_num_data, test_cat_data = split_data(x,y)\n"
      ],
      "metadata": {
        "id": "hZ6RnkANe2AB"
      },
      "execution_count": 10,
      "outputs": []
    },
    {
      "cell_type": "code",
      "source": [
        "# OUT OF TESTED IMPUTATION TECHNIQUES, ITERATIVE IMPUTER GAVE THE BEST RESULTS\n",
        "# OUT OF TESTED ENCODING TECHNIQUES, LEAVE ONE OUT GAVE THE BEST RESULTS \n",
        "# WE USED ROBUST SCALER AS THE DATA CONTAINS A LOT OF OUTLIERS\n",
        "\n",
        "from sklearn.preprocessing import MinMaxScaler, MaxAbsScaler, StandardScaler, RobustScaler, Normalizer, QuantileTransformer, PowerTransformer\n",
        "\n",
        "imputer = IterativeImputer(random_state = 69, estimator = ExtraTreesRegressor(random_state=69))\n",
        "enc = ce.LeaveOneOutEncoder()\n",
        "scaler = RobustScaler()\n",
        "\n",
        "def preprocess(train_num, train_cat, test_num, test_cat):\n",
        "\n",
        "    imputer.fit(train_num)\n",
        "    train_x2 = pd.DataFrame(imputer.transform(train_num), columns = train_num.columns)\n",
        "    test_x2 = pd.DataFrame(imputer.transform(test_num), columns = test_num.columns)\n",
        "    \n",
        "    train_x3 = pd.concat([train_x2, train_cat], axis = 1)\n",
        "    test_x3 = pd.concat([test_x2, test_cat], axis = 1)\n",
        "\n",
        "    enc.fit(train_x3, train_y)\n",
        "    train_x4 = pd.DataFrame(enc.transform(train_x3), columns = train_x3.columns)\n",
        "    test_x4 = pd.DataFrame(enc.transform(test_x3), columns = test_x3.columns)\n",
        "\n",
        "    scaler.fit(train_x4)\n",
        "    train_x5 = pd.DataFrame(scaler.transform(train_x4), columns = train_x4.columns)\n",
        "    test_x5 = pd.DataFrame(scaler.transform(test_x4), columns = test_x4.columns)\n",
        "    \n",
        "    return train_x5, test_x5\n",
        "\n",
        "train_x5, test_x5 = preprocess(train_num_data, train_cat_data, test_num_data, test_cat_data)\n"
      ],
      "metadata": {
        "id": "oUG-8PK_FchI"
      },
      "execution_count": 11,
      "outputs": []
    },
    {
      "cell_type": "code",
      "execution_count": 12,
      "metadata": {
        "id": "QCRfMbGgrT1S"
      },
      "outputs": [],
      "source": [
        "import tensorflow as tf\n",
        "from keras.models import Sequential\n",
        "from keras.layers import Dense, Dropout, BatchNormalization, LeakyReLU, Activation\n",
        "import numpy as np\n",
        "from keras import backend as K\n",
        "import keras"
      ]
    },
    {
      "cell_type": "code",
      "execution_count": 13,
      "metadata": {
        "id": "9TESjtn7rT35"
      },
      "outputs": [],
      "source": [
        "# THE PARAMETERS USED IN THIS MODEL ARE BASED ON HP TUNING DONE AFTER THIS CELL (SEE KERAS TUNER BELOW!)\n",
        "\n",
        "model = Sequential()\n",
        "opt = tf.keras.optimizers.Adam(learning_rate=0.007586966748878234)\n",
        "\n",
        "model.add(Dense(input_dim = 12, units = 192, kernel_initializer = 'he_uniform'))\n",
        "model.add(BatchNormalization())\n",
        "model.add(Activation('leaky_relu'))\n",
        "\n",
        "model.add(Dense(units = 192, kernel_initializer = 'he_uniform'))\n",
        "model.add(BatchNormalization())\n",
        "model.add(Activation('leaky_relu'))\n",
        "\n",
        "model.add(Dense(units = 192, kernel_initializer = 'he_uniform'))\n",
        "model.add(BatchNormalization())\n",
        "model.add(Activation('leaky_relu'))\n",
        "\n",
        "model.add(Dense(units = 1, kernel_initializer='he_uniform'))\n",
        "model.compile(optimizer = opt, loss = 'huber_loss', metrics = ['mean_absolute_error'])"
      ]
    },
    {
      "cell_type": "code",
      "execution_count": 14,
      "metadata": {
        "colab": {
          "base_uri": "https://localhost:8080/"
        },
        "id": "JVBmPtUYrT6K",
        "outputId": "a57052e1-5d9a-4762-b9ce-1b04092efda8"
      },
      "outputs": [
        {
          "output_type": "stream",
          "name": "stdout",
          "text": [
            "Epoch 1/20\n",
            "513/513 [==============================] - 5s 6ms/step - loss: 1055.3217 - mean_absolute_error: 1055.8202 - val_loss: 842.5530 - val_mean_absolute_error: 843.0526\n",
            "Epoch 2/20\n",
            "513/513 [==============================] - 3s 6ms/step - loss: 865.9789 - mean_absolute_error: 866.4779 - val_loss: 694.7861 - val_mean_absolute_error: 695.2842\n",
            "Epoch 3/20\n",
            "513/513 [==============================] - 3s 6ms/step - loss: 717.2083 - mean_absolute_error: 717.7073 - val_loss: 449.0478 - val_mean_absolute_error: 449.5463\n",
            "Epoch 4/20\n",
            "513/513 [==============================] - 3s 5ms/step - loss: 585.1610 - mean_absolute_error: 585.6602 - val_loss: 421.1722 - val_mean_absolute_error: 421.6719\n",
            "Epoch 5/20\n",
            "513/513 [==============================] - 3s 6ms/step - loss: 480.2311 - mean_absolute_error: 480.7304 - val_loss: 514.9280 - val_mean_absolute_error: 515.4275\n",
            "Epoch 6/20\n",
            "513/513 [==============================] - 3s 6ms/step - loss: 451.2455 - mean_absolute_error: 451.7444 - val_loss: 408.3177 - val_mean_absolute_error: 408.8167\n",
            "Epoch 7/20\n",
            "513/513 [==============================] - 3s 5ms/step - loss: 409.1666 - mean_absolute_error: 409.6656 - val_loss: 421.0946 - val_mean_absolute_error: 421.5936\n",
            "Epoch 8/20\n",
            "513/513 [==============================] - 3s 6ms/step - loss: 387.8510 - mean_absolute_error: 388.3500 - val_loss: 394.4290 - val_mean_absolute_error: 394.9279\n",
            "Epoch 9/20\n",
            "513/513 [==============================] - 3s 5ms/step - loss: 388.5790 - mean_absolute_error: 389.0778 - val_loss: 454.4784 - val_mean_absolute_error: 454.9773\n",
            "Epoch 10/20\n",
            "513/513 [==============================] - 3s 5ms/step - loss: 372.7374 - mean_absolute_error: 373.2363 - val_loss: 351.8864 - val_mean_absolute_error: 352.3849\n",
            "Epoch 11/20\n",
            "513/513 [==============================] - 3s 6ms/step - loss: 357.3790 - mean_absolute_error: 357.8780 - val_loss: 344.0403 - val_mean_absolute_error: 344.5396\n",
            "Epoch 12/20\n",
            "513/513 [==============================] - 3s 5ms/step - loss: 351.0131 - mean_absolute_error: 351.5117 - val_loss: 380.4827 - val_mean_absolute_error: 380.9805\n",
            "Epoch 13/20\n",
            "513/513 [==============================] - 3s 5ms/step - loss: 348.4376 - mean_absolute_error: 348.9366 - val_loss: 369.0865 - val_mean_absolute_error: 369.5850\n",
            "Epoch 14/20\n",
            "513/513 [==============================] - 3s 6ms/step - loss: 339.3474 - mean_absolute_error: 339.8459 - val_loss: 403.8130 - val_mean_absolute_error: 404.3118\n",
            "Epoch 15/20\n",
            "513/513 [==============================] - 3s 6ms/step - loss: 330.0357 - mean_absolute_error: 330.5346 - val_loss: 349.2185 - val_mean_absolute_error: 349.7173\n",
            "Epoch 16/20\n",
            "513/513 [==============================] - 3s 6ms/step - loss: 327.0195 - mean_absolute_error: 327.5182 - val_loss: 315.9913 - val_mean_absolute_error: 316.4899\n",
            "Epoch 17/20\n",
            "513/513 [==============================] - 3s 6ms/step - loss: 314.9277 - mean_absolute_error: 315.4265 - val_loss: 324.1747 - val_mean_absolute_error: 324.6716\n",
            "Epoch 18/20\n",
            "513/513 [==============================] - 3s 6ms/step - loss: 322.0353 - mean_absolute_error: 322.5338 - val_loss: 416.0916 - val_mean_absolute_error: 416.5913\n",
            "Epoch 19/20\n",
            "513/513 [==============================] - 3s 5ms/step - loss: 318.2309 - mean_absolute_error: 318.7295 - val_loss: 328.6230 - val_mean_absolute_error: 329.1208\n",
            "Epoch 20/20\n",
            "513/513 [==============================] - 3s 6ms/step - loss: 308.5846 - mean_absolute_error: 309.0829 - val_loss: 360.9997 - val_mean_absolute_error: 361.4992\n"
          ]
        }
      ],
      "source": [
        "history = model.fit(train_x5, train_y, epochs = 20, batch_size = 64, validation_split = 0.2)"
      ]
    },
    {
      "cell_type": "code",
      "execution_count": 15,
      "metadata": {
        "colab": {
          "base_uri": "https://localhost:8080/"
        },
        "id": "IXrw1du3ltiL",
        "outputId": "54d3bb51-cdbe-4e5b-dccd-d6d4e47de239"
      },
      "outputs": [
        {
          "output_type": "stream",
          "name": "stdout",
          "text": [
            "dict_keys(['loss', 'mean_absolute_error', 'val_loss', 'val_mean_absolute_error'])\n"
          ]
        }
      ],
      "source": [
        "print(history.history.keys())\n"
      ]
    },
    {
      "cell_type": "code",
      "execution_count": 16,
      "metadata": {
        "colab": {
          "base_uri": "https://localhost:8080/",
          "height": 295
        },
        "id": "CybPuLLVl9ZW",
        "outputId": "a2ede2b6-1d69-44aa-e234-d5d4b86032ad"
      },
      "outputs": [
        {
          "output_type": "display_data",
          "data": {
            "image/png": "[encoded data removed]",
            "text/plain": [
              "<Figure size 432x288 with 1 Axes>"
            ]
          },
          "metadata": {
            "needs_background": "light"
          }
        }
      ],
      "source": [
        "plt.plot(history.history['mean_absolute_error'])\n",
        "plt.plot(history.history['val_mean_absolute_error'])\n",
        "plt.title('model mae')\n",
        "plt.ylabel('loss')\n",
        "plt.xlabel('epoch')\n",
        "plt.legend(['train', 'test'], loc='upper left')\n",
        "plt.show()"
      ]
    },
    {
      "cell_type": "code",
      "execution_count": 17,
      "metadata": {
        "colab": {
          "base_uri": "https://localhost:8080/"
        },
        "id": "OU1lPxB2rT8p",
        "outputId": "f3700b35-c1e6-45bc-8ea5-5ca102646d21"
      },
      "outputs": [
        {
          "output_type": "stream",
          "name": "stdout",
          "text": [
            "321/321 [==============================] - 1s 2ms/step - loss: 337.6362 - mean_absolute_error: 338.1353\n"
          ]
        },
        {
          "output_type": "execute_result",
          "data": {
            "text/plain": [
              "[337.63616943359375, 338.13531494140625]"
            ]
          },
          "metadata": {},
          "execution_count": 17
        }
      ],
      "source": [
        "model.evaluate(test_x5, test_y)"
      ]
    },
    {
      "cell_type": "markdown",
      "source": [
        "TUNING THE HP OF THE NEURAL NETWORK!!"
      ],
      "metadata": {
        "id": "wX_bVI5p-3Kt"
      }
    },
    {
      "cell_type": "code",
      "execution_count": 18,
      "metadata": {
        "colab": {
          "base_uri": "https://localhost:8080/"
        },
        "id": "_n0POL0QrUHt",
        "outputId": "a1480f27-2f48-4a67-dac3-2ffb18543679"
      },
      "outputs": [
        {
          "output_type": "stream",
          "name": "stdout",
          "text": [
            "Collecting keras-tuner\n",
            "  Downloading keras_tuner-1.1.0-py3-none-any.whl (98 kB)\n",
            "\u001b[?25l\r\u001b[K     |███▍                            | 10 kB 19.9 MB/s eta 0:00:01\r\u001b[K     |██████▊                         | 20 kB 25.8 MB/s eta 0:00:01\r\u001b[K     |██████████                      | 30 kB 15.2 MB/s eta 0:00:01\r\u001b[K     |█████████████▍                  | 40 kB 11.5 MB/s eta 0:00:01\r\u001b[K     |████████████████▊               | 51 kB 7.6 MB/s eta 0:00:01\r\u001b[K     |████████████████████            | 61 kB 7.5 MB/s eta 0:00:01\r\u001b[K     |███████████████████████▍        | 71 kB 7.4 MB/s eta 0:00:01\r\u001b[K     |██████████████████████████▊     | 81 kB 8.2 MB/s eta 0:00:01\r\u001b[K     |██████████████████████████████  | 92 kB 8.4 MB/s eta 0:00:01\r\u001b[K     |████████████████████████████████| 98 kB 3.6 MB/s \n",
            "\u001b[?25hRequirement already satisfied: ipython in /usr/local/lib/python3.7/dist-packages (from keras-tuner) (5.5.0)\n",
            "Requirement already satisfied: numpy in /usr/local/lib/python3.7/dist-packages (from keras-tuner) (1.19.5)\n",
            "Requirement already satisfied: scipy in /usr/local/lib/python3.7/dist-packages (from keras-tuner) (1.4.1)\n",
            "Requirement already satisfied: requests in /usr/local/lib/python3.7/dist-packages (from keras-tuner) (2.23.0)\n",
            "Collecting kt-legacy\n",
            "  Downloading kt_legacy-1.0.4-py3-none-any.whl (9.6 kB)\n",
            "Requirement already satisfied: tensorboard in /usr/local/lib/python3.7/dist-packages (from keras-tuner) (2.7.0)\n",
            "Requirement already satisfied: packaging in /usr/local/lib/python3.7/dist-packages (from keras-tuner) (21.3)\n",
            "Requirement already satisfied: prompt-toolkit<2.0.0,>=1.0.4 in /usr/local/lib/python3.7/dist-packages (from ipython->keras-tuner) (1.0.18)\n",
            "Requirement already satisfied: decorator in /usr/local/lib/python3.7/dist-packages (from ipython->keras-tuner) (4.4.2)\n",
            "Requirement already satisfied: pygments in /usr/local/lib/python3.7/dist-packages (from ipython->keras-tuner) (2.6.1)\n",
            "Requirement already satisfied: pickleshare in /usr/local/lib/python3.7/dist-packages (from ipython->keras-tuner) (0.7.5)\n",
            "Requirement already satisfied: setuptools>=18.5 in /usr/local/lib/python3.7/dist-packages (from ipython->keras-tuner) (57.4.0)\n",
            "Requirement already satisfied: simplegeneric>0.8 in /usr/local/lib/python3.7/dist-packages (from ipython->keras-tuner) (0.8.1)\n",
            "Requirement already satisfied: pexpect in /usr/local/lib/python3.7/dist-packages (from ipython->keras-tuner) (4.8.0)\n",
            "Requirement already satisfied: traitlets>=4.2 in /usr/local/lib/python3.7/dist-packages (from ipython->keras-tuner) (5.1.1)\n",
            "Requirement already satisfied: wcwidth in /usr/local/lib/python3.7/dist-packages (from prompt-toolkit<2.0.0,>=1.0.4->ipython->keras-tuner) (0.2.5)\n",
            "Requirement already satisfied: six>=1.9.0 in /usr/local/lib/python3.7/dist-packages (from prompt-toolkit<2.0.0,>=1.0.4->ipython->keras-tuner) (1.15.0)\n",
            "Requirement already satisfied: pyparsing!=3.0.5,>=2.0.2 in /usr/local/lib/python3.7/dist-packages (from packaging->keras-tuner) (3.0.6)\n",
            "Requirement already satisfied: ptyprocess>=0.5 in /usr/local/lib/python3.7/dist-packages (from pexpect->ipython->keras-tuner) (0.7.0)\n",
            "Requirement already satisfied: certifi>=2017.4.17 in /usr/local/lib/python3.7/dist-packages (from requests->keras-tuner) (2021.10.8)\n",
            "Requirement already satisfied: urllib3!=1.25.0,!=1.25.1,<1.26,>=1.21.1 in /usr/local/lib/python3.7/dist-packages (from requests->keras-tuner) (1.24.3)\n",
            "Requirement already satisfied: idna<3,>=2.5 in /usr/local/lib/python3.7/dist-packages (from requests->keras-tuner) (2.10)\n",
            "Requirement already satisfied: chardet<4,>=3.0.2 in /usr/local/lib/python3.7/dist-packages (from requests->keras-tuner) (3.0.4)\n",
            "Requirement already satisfied: grpcio>=1.24.3 in /usr/local/lib/python3.7/dist-packages (from tensorboard->keras-tuner) (1.42.0)\n",
            "Requirement already satisfied: markdown>=2.6.8 in /usr/local/lib/python3.7/dist-packages (from tensorboard->keras-tuner) (3.3.6)\n",
            "Requirement already satisfied: absl-py>=0.4 in /usr/local/lib/python3.7/dist-packages (from tensorboard->keras-tuner) (0.12.0)\n",
            "Requirement already satisfied: protobuf>=3.6.0 in /usr/local/lib/python3.7/dist-packages (from tensorboard->keras-tuner) (3.17.3)\n",
            "Requirement already satisfied: werkzeug>=0.11.15 in /usr/local/lib/python3.7/dist-packages (from tensorboard->keras-tuner) (1.0.1)\n",
            "Requirement already satisfied: wheel>=0.26 in /usr/local/lib/python3.7/dist-packages (from tensorboard->keras-tuner) (0.37.0)\n",
            "Requirement already satisfied: google-auth-oauthlib<0.5,>=0.4.1 in /usr/local/lib/python3.7/dist-packages (from tensorboard->keras-tuner) (0.4.6)\n",
            "Requirement already satisfied: tensorboard-plugin-wit>=1.6.0 in /usr/local/lib/python3.7/dist-packages (from tensorboard->keras-tuner) (1.8.0)\n",
            "Requirement already satisfied: tensorboard-data-server<0.7.0,>=0.6.0 in /usr/local/lib/python3.7/dist-packages (from tensorboard->keras-tuner) (0.6.1)\n",
            "Requirement already satisfied: google-auth<3,>=1.6.3 in /usr/local/lib/python3.7/dist-packages (from tensorboard->keras-tuner) (1.35.0)\n",
            "Requirement already satisfied: rsa<5,>=3.1.4 in /usr/local/lib/python3.7/dist-packages (from google-auth<3,>=1.6.3->tensorboard->keras-tuner) (4.8)\n",
            "Requirement already satisfied: pyasn1-modules>=0.2.1 in /usr/local/lib/python3.7/dist-packages (from google-auth<3,>=1.6.3->tensorboard->keras-tuner) (0.2.8)\n",
            "Requirement already satisfied: cachetools<5.0,>=2.0.0 in /usr/local/lib/python3.7/dist-packages (from google-auth<3,>=1.6.3->tensorboard->keras-tuner) (4.2.4)\n",
            "Requirement already satisfied: requests-oauthlib>=0.7.0 in /usr/local/lib/python3.7/dist-packages (from google-auth-oauthlib<0.5,>=0.4.1->tensorboard->keras-tuner) (1.3.0)\n",
            "Requirement already satisfied: importlib-metadata>=4.4 in /usr/local/lib/python3.7/dist-packages (from markdown>=2.6.8->tensorboard->keras-tuner) (4.8.2)\n",
            "Requirement already satisfied: typing-extensions>=3.6.4 in /usr/local/lib/python3.7/dist-packages (from importlib-metadata>=4.4->markdown>=2.6.8->tensorboard->keras-tuner) (3.10.0.2)\n",
            "Requirement already satisfied: zipp>=0.5 in /usr/local/lib/python3.7/dist-packages (from importlib-metadata>=4.4->markdown>=2.6.8->tensorboard->keras-tuner) (3.6.0)\n",
            "Requirement already satisfied: pyasn1<0.5.0,>=0.4.6 in /usr/local/lib/python3.7/dist-packages (from pyasn1-modules>=0.2.1->google-auth<3,>=1.6.3->tensorboard->keras-tuner) (0.4.8)\n",
            "Requirement already satisfied: oauthlib>=3.0.0 in /usr/local/lib/python3.7/dist-packages (from requests-oauthlib>=0.7.0->google-auth-oauthlib<0.5,>=0.4.1->tensorboard->keras-tuner) (3.1.1)\n",
            "Installing collected packages: kt-legacy, keras-tuner\n",
            "Successfully installed keras-tuner-1.1.0 kt-legacy-1.0.4\n"
          ]
        }
      ],
      "source": [
        "# HYPERPARAMETER TUNING\n",
        "\n",
        "!pip install keras-tuner --upgrade"
      ]
    },
    {
      "cell_type": "code",
      "execution_count": 19,
      "metadata": {
        "id": "vis0SVx5rUJ5",
        "colab": {
          "base_uri": "https://localhost:8080/"
        },
        "outputId": "5e7aa5f5-715b-4d45-def1-f9286b28a0a1"
      },
      "outputs": [
        {
          "output_type": "stream",
          "name": "stderr",
          "text": [
            "/usr/local/lib/python3.7/dist-packages/ipykernel_launcher.py:2: DeprecationWarning: `import kerastuner` is deprecated, please use `import keras_tuner`.\n",
            "  \n"
          ]
        }
      ],
      "source": [
        "import keras_tuner as kt\n",
        "from kerastuner.tuners import RandomSearch"
      ]
    },
    {
      "cell_type": "code",
      "execution_count": 15,
      "metadata": {
        "id": "DMJnb9GOrUMY"
      },
      "outputs": [],
      "source": [
        "# TUNE THE NUMBER OF LAYERS, NEURONS, LEARNING RATE OF THE NEURAL NET\n",
        "\n",
        "def build_model(hp):\n",
        "  model = Sequential()\n",
        "\n",
        "  for i in range(hp.Int('Dense Layers', min_value = 1, max_value = 3)):\n",
        "\n",
        "    model.add(Dense(\n",
        "        hp.Int('units', min_value = 128, max_value = 1024, step = 128),\n",
        "        input_dim = 12,\n",
        "        kernel_initializer='he_uniform'))\n",
        "    \n",
        "    model.add(BatchNormalization())\n",
        "    model.add(Activation('leaky_relu'))\n",
        "\n",
        "\n",
        "  model.add(Dense(units = 1, activation = 'leaky_relu', kernel_initializer='he_uniform'))\n",
        "\n",
        "  model.compile(\n",
        "      optimizer=tf.keras.optimizers.Adam(learning_rate=hp.Float('lr', min_value = 1e-4, max_value = 1e-2, sampling = 'log')), \n",
        "      loss = 'huber_loss', metrics = ['mean_absolute_error'])\n",
        "\n",
        "  return model\n"
      ]
    },
    {
      "cell_type": "code",
      "execution_count": 16,
      "metadata": {
        "colab": {
          "base_uri": "https://localhost:8080/"
        },
        "id": "18ggzOhFrUO6",
        "outputId": "22b4a902-3fef-45e3-b2ee-efc399a2b395"
      },
      "outputs": [
        {
          "output_type": "stream",
          "name": "stdout",
          "text": [
            "INFO:tensorflow:Reloading Oracle from existing project ./untitled_project/oracle.json\n",
            "INFO:tensorflow:Reloading Tuner from ./untitled_project/tuner0.json\n"
          ]
        }
      ],
      "source": [
        "tuner = kt.RandomSearch(\n",
        "    build_model,\n",
        "    kt.Objective('val_loss', direction = 'min'),\n",
        "    max_trials=30, seed = 69)"
      ]
    },
    {
      "cell_type": "code",
      "execution_count": 17,
      "metadata": {
        "colab": {
          "base_uri": "https://localhost:8080/"
        },
        "id": "aXdJ2CeYrURO",
        "outputId": "76827c66-3a73-4337-b95e-507d7aad5f94"
      },
      "outputs": [
        {
          "output_type": "stream",
          "name": "stdout",
          "text": [
            "INFO:tensorflow:Oracle triggered exit\n"
          ]
        }
      ],
      "source": [
        "tuner.search(train_x5, train_y, epochs=5, batch_size = 128, validation_data=(test_x5, test_y))"
      ]
    },
    {
      "cell_type": "code",
      "execution_count": 18,
      "metadata": {
        "id": "M5q0QL9HrUTq"
      },
      "outputs": [],
      "source": [
        "best_model = tuner.get_best_models()[0]"
      ]
    },
    {
      "cell_type": "code",
      "execution_count": 19,
      "metadata": {
        "colab": {
          "base_uri": "https://localhost:8080/"
        },
        "id": "hEUZI94frUWA",
        "outputId": "b1cdc517-afca-4c31-8a10-7ab78bf9feaf"
      },
      "outputs": [
        {
          "output_type": "stream",
          "name": "stdout",
          "text": [
            "321/321 [==============================] - 2s 3ms/step - loss: 339.5651 - mean_absolute_error: 340.0641\n"
          ]
        },
        {
          "output_type": "execute_result",
          "data": {
            "text/plain": [
              "[339.5650939941406, 340.0641174316406]"
            ]
          },
          "metadata": {},
          "execution_count": 19
        }
      ],
      "source": [
        "best_model.evaluate(test_x5, test_y)"
      ]
    },
    {
      "cell_type": "code",
      "execution_count": 20,
      "metadata": {
        "colab": {
          "base_uri": "https://localhost:8080/"
        },
        "id": "3wcx9Iv6rUYa",
        "outputId": "30df44d3-4ced-49f0-a2e3-6f433898f1b8"
      },
      "outputs": [
        {
          "output_type": "stream",
          "name": "stdout",
          "text": [
            "Model: \"sequential\"\n",
            "_________________________________________________________________\n",
            " Layer (type)                Output Shape              Param #   \n",
            "=================================================================\n",
            " dense (Dense)               (None, 192)               2496      \n",
            "                                                                 \n",
            " batch_normalization (BatchN  (None, 192)              768       \n",
            " ormalization)                                                   \n",
            "                                                                 \n",
            " activation (Activation)     (None, 192)               0         \n",
            "                                                                 \n",
            " dense_1 (Dense)             (None, 192)               37056     \n",
            "                                                                 \n",
            " batch_normalization_1 (Batc  (None, 192)              768       \n",
            " hNormalization)                                                 \n",
            "                                                                 \n",
            " activation_1 (Activation)   (None, 192)               0         \n",
            "                                                                 \n",
            " dense_2 (Dense)             (None, 1)                 193       \n",
            "                                                                 \n",
            "=================================================================\n",
            "Total params: 41,281\n",
            "Trainable params: 40,513\n",
            "Non-trainable params: 768\n",
            "_________________________________________________________________\n"
          ]
        }
      ],
      "source": [
        "best_model.summary()"
      ]
    },
    {
      "cell_type": "code",
      "execution_count": 21,
      "metadata": {
        "colab": {
          "base_uri": "https://localhost:8080/"
        },
        "id": "Dg-qv01SrUa7",
        "outputId": "4ab2e8d3-eb56-499f-e16d-c0569da27dfd"
      },
      "outputs": [
        {
          "output_type": "stream",
          "name": "stdout",
          "text": [
            "Results summary\n",
            "Results in ./untitled_project\n",
            "Showing 10 best trials\n",
            "Objective(name='val_loss', direction='min')\n",
            "Trial summary\n",
            "Hyperparameters:\n",
            "Dense Layers: 2\n",
            "units: 192\n",
            "lr: 0.007586966748878234\n",
            "Score: 339.5650329589844\n",
            "Trial summary\n",
            "Hyperparameters:\n",
            "Dense Layers: 2\n",
            "units: 768\n",
            "lr: 0.009022079415210089\n",
            "Score: 340.6034851074219\n",
            "Trial summary\n",
            "Hyperparameters:\n",
            "Dense Layers: 2\n",
            "units: 640\n",
            "lr: 0.0064974404904634625\n",
            "Score: 343.1065368652344\n",
            "Trial summary\n",
            "Hyperparameters:\n",
            "Dense Layers: 2\n",
            "units: 640\n",
            "lr: 0.0033137745378583987\n",
            "Score: 352.28277587890625\n",
            "Trial summary\n",
            "Hyperparameters:\n",
            "Dense Layers: 2\n",
            "units: 320\n",
            "lr: 0.0038287047044982298\n",
            "Score: 385.4798583984375\n",
            "Trial summary\n",
            "Hyperparameters:\n",
            "Dense Layers: 1\n",
            "units: 1024\n",
            "lr: 0.008316141310476274\n",
            "Score: 445.9129333496094\n",
            "Trial summary\n",
            "Hyperparameters:\n",
            "Dense Layers: 1\n",
            "units: 960\n",
            "lr: 0.0063112653257792195\n",
            "Score: 454.6452331542969\n",
            "Trial summary\n",
            "Hyperparameters:\n",
            "Dense Layers: 1\n",
            "units: 768\n",
            "lr: 0.0071223894490449685\n",
            "Score: 456.3585205078125\n",
            "Trial summary\n",
            "Hyperparameters:\n",
            "Dense Layers: 1\n",
            "units: 960\n",
            "lr: 0.0043925333029596605\n",
            "Score: 483.281494140625\n",
            "Trial summary\n",
            "Hyperparameters:\n",
            "Dense Layers: 1\n",
            "units: 384\n",
            "lr: 0.007387949622995673\n",
            "Score: 483.4832763671875\n"
          ]
        }
      ],
      "source": [
        "tuner.results_summary()"
      ]
    },
    {
      "cell_type": "code",
      "execution_count": null,
      "metadata": {
        "id": "AnFohjAxrUc_"
      },
      "outputs": [],
      "source": [
        ""
      ]
    },
    {
      "cell_type": "code",
      "execution_count": null,
      "metadata": {
        "id": "FVcU70jOrUfl"
      },
      "outputs": [],
      "source": [
        ""
      ]
    },
    {
      "cell_type": "code",
      "execution_count": null,
      "metadata": {
        "id": "YXlxfOEZrUht"
      },
      "outputs": [],
      "source": [
        ""
      ]
    },
    {
      "cell_type": "code",
      "execution_count": null,
      "metadata": {
        "id": "WzPg1kEirUkk"
      },
      "outputs": [],
      "source": [
        ""
      ]
    },
    {
      "cell_type": "code",
      "execution_count": null,
      "metadata": {
        "id": "nQJlIqPNrUm_"
      },
      "outputs": [],
      "source": [
        ""
      ]
    },
    {
      "cell_type": "code",
      "execution_count": null,
      "metadata": {
        "id": "YVdl4HCRrUpU"
      },
      "outputs": [],
      "source": [
        ""
      ]
    },
    {
      "cell_type": "code",
      "execution_count": null,
      "metadata": {
        "id": "VRoryJUZrUrY"
      },
      "outputs": [],
      "source": [
        ""
      ]
    },
    {
      "cell_type": "code",
      "execution_count": null,
      "metadata": {
        "id": "F24nbfqzrUuF"
      },
      "outputs": [],
      "source": [
        ""
      ]
    },
    {
      "cell_type": "code",
      "execution_count": null,
      "metadata": {
        "id": "XPSuTYT6rUwp"
      },
      "outputs": [],
      "source": [
        ""
      ]
    },
    {
      "cell_type": "code",
      "execution_count": null,
      "metadata": {
        "id": "Yow_GFj3rUy3"
      },
      "outputs": [],
      "source": [
        ""
      ]
    },
    {
      "cell_type": "code",
      "execution_count": null,
      "metadata": {
        "id": "df6IVRUwrU0p"
      },
      "outputs": [],
      "source": [
        ""
      ]
    }
  ],
  "metadata": {
    "accelerator": "GPU",
    "colab": {
      "collapsed_sections": [],
      "name": "SA NN.ipynb",
      "provenance": [],
      "authorship_tag": "ABX9TyN4PMMjeboefocXaXGLeUB8",
      "include_colab_link": true
    },
    "kernelspec": {
      "display_name": "Python 3",
      "name": "python3"
    },
    "language_info": {
      "name": "python"
    }
  },
  "nbformat": 4,
  "nbformat_minor": 0
}